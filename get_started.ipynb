{
 "cells": [
  {
   "cell_type": "markdown",
   "id": "fdb4a7ca",
   "metadata": {},
   "source": [
    "\n",
    "MLflow tracking server\n"
   ]
  },
  {
   "cell_type": "code",
   "execution_count": 4,
   "id": "fe10ddf7",
   "metadata": {},
   "outputs": [],
   "source": [
    "import mlflow"
   ]
  },
  {
   "cell_type": "code",
   "execution_count": 5,
   "id": "e987cb71",
   "metadata": {},
   "outputs": [],
   "source": [
    "mlflow.set_tracking_uri(\"https://127.0.0.1.5000\")"
   ]
  },
  {
   "cell_type": "code",
   "execution_count": null,
   "id": "4c176549",
   "metadata": {},
   "outputs": [],
   "source": []
  },
  {
   "cell_type": "code",
   "execution_count": null,
   "id": "a332e7a4",
   "metadata": {},
   "outputs": [],
   "source": [
    "mlflow.set_experiment(\"check local host connection\")\n",
    "with mlflow.start_run():\n",
    "    mlflow.log_metrics(\"test\",1)\n",
    "    mlflow.log_metrics(\"Krish\",2)"
   ]
  },
  {
   "cell_type": "code",
   "execution_count": null,
   "id": "10c24790",
   "metadata": {},
   "outputs": [],
   "source": []
  },
  {
   "cell_type": "code",
   "execution_count": null,
   "id": "eee759e2",
   "metadata": {},
   "outputs": [],
   "source": []
  },
  {
   "cell_type": "code",
   "execution_count": null,
   "id": "bdc3b4d2",
   "metadata": {},
   "outputs": [],
   "source": []
  },
  {
   "cell_type": "code",
   "execution_count": null,
   "id": "2aa93a95",
   "metadata": {},
   "outputs": [],
   "source": []
  },
  {
   "cell_type": "code",
   "execution_count": null,
   "id": "c19084ab",
   "metadata": {},
   "outputs": [],
   "source": []
  }
 ],
 "metadata": {
  "kernelspec": {
   "display_name": "Python 3",
   "language": "python",
   "name": "python3"
  },
  "language_info": {
   "codemirror_mode": {
    "name": "ipython",
    "version": 3
   },
   "file_extension": ".py",
   "mimetype": "text/x-python",
   "name": "python",
   "nbconvert_exporter": "python",
   "pygments_lexer": "ipython3",
   "version": "3.10.0"
  }
 },
 "nbformat": 4,
 "nbformat_minor": 5
}
